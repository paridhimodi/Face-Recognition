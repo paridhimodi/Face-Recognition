{
  "nbformat": 4,
  "nbformat_minor": 0,
  "metadata": {
    "colab": {
      "name": "face-recog.ipynb",
      "provenance": []
    },
    "kernelspec": {
      "name": "python3",
      "display_name": "Python 3"
    },
    "accelerator": "GPU"
  },
  "cells": [
    {
      "cell_type": "code",
      "metadata": {
        "id": "5mKSWwRa6XJZ"
      },
      "source": [
        "## Face Detection"
      ],
      "execution_count": 10,
      "outputs": []
    },
    {
      "cell_type": "code",
      "metadata": {
        "id": "pfYYwVUMRb9p"
      },
      "source": [
        "from PIL import Image, ImageDraw\r\n",
        "import face_recognition"
      ],
      "execution_count": 3,
      "outputs": []
    },
    {
      "cell_type": "code",
      "metadata": {
        "colab": {
          "base_uri": "https://localhost:8080/"
        },
        "id": "jKtH8MemxehK",
        "outputId": "55b1a51b-33d9-4181-85c8-f0be725d30c7"
      },
      "source": [
        "image = face_recognition.load_image_file('/content/drive/MyDrive/number of faces/IMG-20190706-WA0207.jpg')\r\n",
        "face_locations = face_recognition.face_locations(image)\r\n",
        "number_of_faces=len(face_locations)\r\n",
        "print('I found {} faces on this photograph'.format(number_of_faces))\r\n",
        "pil_image = Image.fromarray(image)\r\n",
        "\r\n",
        "for face_location in face_locations:\r\n",
        "  top, right, bottom, left = face_location\r\n",
        "  draw = ImageDraw.Draw(pil_image)\r\n",
        "  draw.rectangle([left, top, right, bottom], outline='green')\r\n",
        "\r\n",
        "pil_image.show()"
      ],
      "execution_count": 8,
      "outputs": [
        {
          "output_type": "stream",
          "text": [
            "I found 2 faces on this photograph\n"
          ],
          "name": "stdout"
        }
      ]
    },
    {
      "cell_type": "code",
      "metadata": {
        "id": "q0rjv5I75Jr-"
      },
      "source": [
        "# FAce landmarks"
      ],
      "execution_count": 11,
      "outputs": []
    },
    {
      "cell_type": "code",
      "metadata": {
        "colab": {
          "base_uri": "https://localhost:8080/"
        },
        "id": "KdrPx5x26lCs",
        "outputId": "1aaa99ea-819f-4300-d2c9-6170bbd34a29"
      },
      "source": [
        "from PIL import Image, ImageDraw\r\n",
        "import face_recognition\r\n",
        "\r\n",
        "image = face_recognition.load_image_file('/content/drive/MyDrive/number of faces/IMG-20190706-WA0207.jpg')\r\n",
        "face_landmarks_list = face_recognition.face_landmarks(image)\r\n",
        "number_of_faces=len(face_locations)\r\n",
        "\r\n",
        "print('I found {} faces on this photograph'.format(number_of_faces))\r\n",
        "\r\n",
        "pil_image = Image.fromarray(image)\r\n",
        "draw = ImageDraw.Draw(pil_image)\r\n",
        "\r\n",
        "for face_landmark in face_landmarks_list:\r\n",
        "  for name, list_of_points in face_landmark.items():\r\n",
        "    print('The {} in this face has following points: {}'.format(name, list_of_points))\r\n",
        "    draw.line(list_of_points, fill = 'yellow', width=3)\r\n",
        "\r\n",
        "pil_image.show()"
      ],
      "execution_count": 12,
      "outputs": [
        {
          "output_type": "stream",
          "text": [
            "I found 2 faces on this photograph\n",
            "The chin in this face has following points: [(115, 297), (116, 342), (121, 388), (133, 431), (157, 468), (193, 497), (231, 522), (271, 541), (301, 544), (326, 533), (340, 506), (355, 479), (372, 454), (389, 429), (401, 402), (404, 374), (401, 346)]\n",
            "The left_eyebrow in this face has following points: [(178, 269), (207, 256), (243, 252), (276, 262), (304, 280)]\n",
            "The right_eyebrow in this face has following points: [(351, 288), (368, 280), (386, 278), (401, 281), (410, 293)]\n",
            "The nose_bridge in this face has following points: [(326, 330), (330, 359), (334, 389), (338, 419)]\n",
            "The nose_tip in this face has following points: [(290, 428), (306, 434), (323, 440), (336, 436), (348, 429)]\n",
            "The left_eye in this face has following points: [(210, 315), (232, 308), (255, 313), (274, 332), (251, 335), (227, 331)]\n",
            "The right_eye in this face has following points: [(342, 341), (358, 325), (377, 326), (389, 336), (378, 346), (359, 347)]\n",
            "The top_lip in this face has following points: [(242, 452), (276, 454), (303, 454), (318, 459), (333, 454), (343, 454), (350, 454), (344, 457), (331, 466), (317, 469), (300, 467), (252, 455)]\n",
            "The bottom_lip in this face has following points: [(350, 454), (341, 472), (331, 483), (316, 487), (298, 485), (273, 474), (242, 452), (252, 455), (301, 467), (318, 468), (332, 464), (344, 457)]\n",
            "The chin in this face has following points: [(701, 174), (690, 192), (681, 212), (678, 233), (677, 255), (679, 279), (682, 302), (688, 323), (705, 334), (729, 339), (757, 335), (782, 328), (806, 316), (825, 299), (839, 277), (849, 254), (858, 230)]\n",
            "The left_eyebrow in this face has following points: [(705, 146), (714, 140), (725, 141), (736, 147), (743, 157)]\n",
            "The right_eyebrow in this face has following points: [(773, 164), (790, 162), (809, 167), (825, 178), (833, 193)]\n",
            "The nose_bridge in this face has following points: [(751, 185), (744, 201), (737, 216), (730, 232)]\n",
            "The nose_tip in this face has following points: [(714, 239), (720, 245), (727, 250), (738, 251), (748, 252)]\n",
            "The left_eye in this face has following points: [(709, 173), (719, 168), (731, 172), (737, 185), (727, 185), (715, 182)]\n",
            "The right_eye in this face has following points: [(774, 198), (789, 190), (801, 192), (811, 203), (800, 207), (786, 204)]\n",
            "The top_lip in this face has following points: [(696, 262), (705, 261), (715, 261), (722, 266), (733, 266), (748, 274), (764, 283), (758, 282), (731, 275), (720, 273), (713, 270), (700, 264)]\n",
            "The bottom_lip in this face has following points: [(764, 283), (742, 291), (726, 292), (715, 290), (707, 286), (699, 276), (696, 262), (700, 264), (711, 274), (718, 278), (729, 280), (758, 282)]\n"
          ],
          "name": "stdout"
        }
      ]
    },
    {
      "cell_type": "code",
      "metadata": {
        "id": "sYxb14jR87eX"
      },
      "source": [
        "## Face encoding"
      ],
      "execution_count": 13,
      "outputs": []
    },
    {
      "cell_type": "code",
      "metadata": {
        "colab": {
          "base_uri": "https://localhost:8080/"
        },
        "id": "spm-2O_79rkO",
        "outputId": "f189112e-61a0-4e72-9f95-c2ab403975c1"
      },
      "source": [
        "import face_recognition\r\n",
        "image = face_recognition.load_image_file('/content/drive/MyDrive/man-oe-woman/women/WhatsApp Image 2020-12-22 at 8.25.02 PM (1).jpeg')\r\n",
        "\r\n",
        "\r\n",
        "face_encodings = face_recognition.face_encodings(image)\r\n",
        "if len(face_encodings)==0:\r\n",
        "  print(\"No faces were found\")\r\n",
        "else:\r\n",
        "  first_face_encoding = face_encodings[0]\r\n",
        "  print(first_face_encoding)\r\n",
        "\r\n"
      ],
      "execution_count": 14,
      "outputs": [
        {
          "output_type": "stream",
          "text": [
            "[-2.70793252e-02  6.47224933e-02  3.79420593e-02 -1.41904682e-01\n",
            " -1.66917235e-01 -4.28670868e-02 -5.62537685e-02 -1.15967244e-01\n",
            "  1.94285363e-01 -2.11192951e-01  2.09799901e-01 -1.50711074e-01\n",
            " -2.02764019e-01  5.70459515e-02 -1.08815849e-01  2.24814057e-01\n",
            " -1.76180527e-01 -9.38602835e-02 -3.77254598e-02  5.78202121e-03\n",
            "  7.63204694e-02  3.60736549e-02 -1.35045070e-02  1.08853452e-01\n",
            " -3.75316255e-02 -3.88380438e-01 -6.20500781e-02 -6.16360679e-02\n",
            " -1.13912605e-01 -5.31531945e-02 -2.47236639e-02  1.15410551e-01\n",
            " -2.03399464e-01 -3.26696262e-02  1.22535937e-02  9.84215364e-02\n",
            " -7.01859295e-02 -1.01088554e-01  1.98376536e-01  1.81341544e-03\n",
            " -2.48249203e-01  1.39623415e-02  6.17197081e-02  2.35837698e-01\n",
            "  1.42206162e-01 -5.75517025e-03 -1.81141905e-02 -1.46088138e-01\n",
            "  1.71513557e-01 -2.46703297e-01  6.70088036e-03  7.91599900e-02\n",
            "  6.31879345e-02  9.19153169e-03  6.41603023e-02 -1.26261905e-01\n",
            "  6.56049103e-02  1.07953921e-01 -2.29420930e-01 -2.52587870e-02\n",
            "  1.17378727e-01 -8.85046721e-02  1.64014064e-02 -1.49297670e-01\n",
            "  3.01324427e-01  1.54409185e-01 -8.75705779e-02 -1.05365001e-01\n",
            "  1.84136793e-01 -1.37558550e-01 -3.37947533e-03  5.26932813e-02\n",
            " -1.03901081e-01 -2.18358085e-01 -1.99756891e-01 -3.05063128e-02\n",
            "  4.10121113e-01  1.73557788e-01 -1.70272619e-01  3.70287709e-03\n",
            " -3.57987732e-02 -3.14350538e-02  1.67117521e-01  1.23906843e-01\n",
            "  4.18656617e-02  3.12143024e-02 -6.86382800e-02  6.92565516e-02\n",
            "  2.27274194e-01 -8.12830031e-02 -2.57785209e-02  2.72755295e-01\n",
            " -1.44143365e-02  2.67748777e-02  2.62079164e-02 -5.38843386e-02\n",
            " -1.28492340e-01  6.08574301e-02 -2.10647374e-01  4.35440317e-02\n",
            " -6.21830560e-02 -2.02277638e-02 -3.07460167e-02  9.41788256e-02\n",
            " -1.35648698e-01  1.02573164e-01 -6.22610375e-02 -4.28936109e-02\n",
            " -5.06280698e-02 -2.73490753e-02 -1.05384335e-01 -5.78535683e-02\n",
            "  1.41251653e-01 -2.04567730e-01  1.24743342e-01  3.55358422e-02\n",
            "  3.90961245e-02  1.80000201e-01  3.05063929e-02  8.20717216e-02\n",
            " -2.16546282e-03 -1.12738684e-01 -2.65755534e-01 -1.10836700e-04\n",
            "  1.54238701e-01 -9.16227605e-03  1.30533725e-01 -7.66555499e-03]\n"
          ],
          "name": "stdout"
        }
      ]
    },
    {
      "cell_type": "code",
      "metadata": {
        "colab": {
          "base_uri": "https://localhost:8080/"
        },
        "id": "EzFkZ-2GAsk8",
        "outputId": "f9f2c0cc-6bd9-4651-9825-bd5ac1695a07"
      },
      "source": [
        "## Face Regognition system\r\n",
        "import face_recognition\r\n",
        "\r\n",
        "image_p1 = face_recognition.load_image_file('/content/drive/MyDrive/man-oe-woman/women/WhatsApp Image 2020-12-22 at 8.25.02 PM (1).jpeg')\r\n",
        "image_p2 = face_recognition.load_image_file('/content/drive/MyDrive/man-oe-woman/man/WhatsApp Image 2020-12-22 at 8.34.13 PM.jpeg')\r\n",
        "\r\n",
        "p1_img_encoding = face_recognition.face_encodings(image_p1)[0]\r\n",
        "p2_img_encoding = face_recognition.face_encodings(image_p2)[0]\r\n",
        "\r\n",
        "known_face_encodings = [p1_img_encoding,\r\n",
        "                        p2_img_encoding]\r\n",
        "\r\n",
        "unknown_image = face_recognition.load_image_file('/content/drive/MyDrive/man-oe-woman/man/m4.jpg')\r\n",
        "unknown_img_encodings = face_recognition.face_encodings(unknown_image)\r\n",
        "\r\n",
        "for unknown_face_encoding in unknown_img_encodings:\r\n",
        "\r\n",
        "  results = face_recognition.compare_faces(known_face_encodings ,unknown_face_encoding)\r\n",
        "\r\n",
        "  name = 'unknown'\r\n",
        "  if results[0]:\r\n",
        "    name = 'mitiyali'\r\n",
        "  elif results[1]:\r\n",
        "    name = 'Jitesh'\r\n",
        "  else:\r\n",
        "    name = 'unknown person'\r\n",
        "\r\n",
        "  print(f\"found {name} in the photo\")\r\n",
        "\r\n"
      ],
      "execution_count": 21,
      "outputs": [
        {
          "output_type": "stream",
          "text": [
            "found unknown person in the photo\n"
          ],
          "name": "stdout"
        }
      ]
    },
    {
      "cell_type": "code",
      "metadata": {
        "colab": {
          "base_uri": "https://localhost:8080/"
        },
        "id": "7JbG5BIjLeZG",
        "outputId": "a14bac40-c374-449d-c41c-a383009ee8a5"
      },
      "source": [
        "## Fine tuning the  above model\r\n",
        "\r\n",
        "import face_recognition\r\n",
        "\r\n",
        "image_p1 = face_recognition.load_image_file('/content/drive/MyDrive/man-oe-woman/women/WhatsApp Image 2020-12-22 at 8.25.02 PM (1).jpeg')\r\n",
        "image_p2 = face_recognition.load_image_file('/content/drive/MyDrive/man-oe-woman/man/WhatsApp Image 2020-12-22 at 8.34.13 PM.jpeg')\r\n",
        "\r\n",
        "p1_img_encoding = face_recognition.face_encodings(image_p1)[0]\r\n",
        "p2_img_encoding = face_recognition.face_encodings(image_p2)[0]\r\n",
        "\r\n",
        "known_face_encodings = [p1_img_encoding,\r\n",
        "                        p2_img_encoding]\r\n",
        "\r\n",
        "unknown_image = face_recognition.load_image_file('/content/drive/MyDrive/number of faces/IMG-20190706-WA0000.jpg')\r\n",
        "\r\n",
        "face_locations = face_recognition.face_locations(unknown_image, number_of_times_to_upsample=2)\r\n",
        "unknown_img_encodings = face_recognition.face_encodings(unknown_image)\r\n",
        "\r\n",
        "for unknown_face_encoding in unknown_img_encodings:\r\n",
        "\r\n",
        "  results = face_recognition.compare_faces(known_face_encodings ,unknown_face_encoding)\r\n",
        "\r\n",
        "  name = 'unknown'\r\n",
        "  if results[0]:\r\n",
        "    name = 'mitiyali'\r\n",
        "  elif results[1]:\r\n",
        "    name = 'Jitesh'\r\n",
        "  else:\r\n",
        "    name = 'unknown person'\r\n",
        "\r\n",
        "  print(f\"found {name} in the photo\")\r\n"
      ],
      "execution_count": 25,
      "outputs": [
        {
          "output_type": "stream",
          "text": [
            "found unknown person in the photo\n",
            "found unknown person in the photo\n",
            "found unknown person in the photo\n"
          ],
          "name": "stdout"
        }
      ]
    },
    {
      "cell_type": "code",
      "metadata": {
        "id": "YaB5-7uXNSsl"
      },
      "source": [
        "## Face Makeup"
      ],
      "execution_count": 26,
      "outputs": []
    },
    {
      "cell_type": "code",
      "metadata": {
        "id": "3Tf2G7TmOfva"
      },
      "source": [
        "from PIL import Image, ImageDraw\r\n",
        "import face_recognition\r\n",
        "\r\n",
        "image = face_recognition.load_image_file('/content/drive/MyDrive/man-oe-woman/women/WhatsApp Image 2020-12-22 at 8.25.02 PM.jpeg')\r\n",
        "face_landmarks_list = face_recognition.face_landmarks(image)\r\n",
        "\r\n",
        "pil_image = Image.fromarray(image)\r\n",
        "d = ImageDraw.Draw(pil_image, 'RGBA')\r\n",
        "\r\n",
        "for face_landmark in face_landmarks_list:\r\n",
        "  ## Draw over eyebrow, we can use features like chin, left_eyebrow, right_eyebrow, nose_bridge , left_eye, right_eye, top_lip\r\n",
        "  d.line(face_landmark['left_eyebrow'], fill = (128,0,128,100), width =3)\r\n",
        "  d.line(face_landmark['right_eyebrow'], fill = (128,0,128,100), width =3)\r\n",
        "  ## draw over lips\r\n",
        "  d.polygon(face_landmark['top_lip'], fill = (128,0,128,0))\r\n",
        "  d.polygon(face_landmark['bottom_lip'], fill = (128,0,128,0))\r\n",
        "\r\n",
        "pil_image.show()"
      ],
      "execution_count": 28,
      "outputs": []
    },
    {
      "cell_type": "code",
      "metadata": {
        "id": "GJ9OGilbUMql"
      },
      "source": [
        ""
      ],
      "execution_count": null,
      "outputs": []
    }
  ]
}